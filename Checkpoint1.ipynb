{
 "cells": [
  {
   "cell_type": "code",
   "execution_count": null,
   "id": "7732aea7",
   "metadata": {},
   "outputs": [],
   "source": [
    "import random\n",
    "n= random.randint (1,100)\n",
    "tentatives= 10\n",
    "while tentatives>0:\n",
    "    tentatives -=1\n",
    "    x =int (input(\"entrez votre estimation: \"))\n",
    "    if x<n:\n",
    "        print (\"Votre supposition est trop élevée. Devine encore.\")\n",
    "    elif x>n:\n",
    "        print (\"Votre estimation est trop faible. Devine encore.\")\n",
    "    else:\n",
    "        break\n",
    "\n",
    "if tentatives !=0:\n",
    "    print(\"Bravo! Vous avez bien deviné le nombre !\",x)"
   ]
  }
 ],
 "metadata": {
  "kernelspec": {
   "display_name": "Python 3 (ipykernel)",
   "language": "python",
   "name": "python3"
  },
  "language_info": {
   "codemirror_mode": {
    "name": "ipython",
    "version": 3
   },
   "file_extension": ".py",
   "mimetype": "text/x-python",
   "name": "python",
   "nbconvert_exporter": "python",
   "pygments_lexer": "ipython3",
   "version": "3.10.9"
  }
 },
 "nbformat": 4,
 "nbformat_minor": 5
}
